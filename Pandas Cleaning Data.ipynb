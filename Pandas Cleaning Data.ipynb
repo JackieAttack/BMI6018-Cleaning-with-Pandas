{
 "cells": [
  {
   "cell_type": "code",
   "execution_count": 1,
   "id": "24da6d06",
   "metadata": {},
   "outputs": [],
   "source": [
    "import pandas as pd\n",
    "import matplotlib.pyplot as plt\n",
    "import numpy as np"
   ]
  },
  {
   "cell_type": "code",
   "execution_count": 2,
   "id": "63779460",
   "metadata": {},
   "outputs": [],
   "source": [
    "flights_data = pd.read_csv('flights.csv')\n",
    "flights_data.head(10)\n",
    "weather_data_pd = pd.read_csv('weather.csv')\n",
    "weather_data_np = weather_data_pd.to_numpy()"
   ]
  },
  {
   "cell_type": "code",
   "execution_count": 3,
   "id": "ed85e995",
   "metadata": {},
   "outputs": [
    {
     "data": {
      "text/html": [
       "<div>\n",
       "<style scoped>\n",
       "    .dataframe tbody tr th:only-of-type {\n",
       "        vertical-align: middle;\n",
       "    }\n",
       "\n",
       "    .dataframe tbody tr th {\n",
       "        vertical-align: top;\n",
       "    }\n",
       "\n",
       "    .dataframe thead th {\n",
       "        text-align: right;\n",
       "    }\n",
       "</style>\n",
       "<table border=\"1\" class=\"dataframe\">\n",
       "  <thead>\n",
       "    <tr style=\"text-align: right;\">\n",
       "      <th></th>\n",
       "      <th>Unnamed: 0</th>\n",
       "      <th>year</th>\n",
       "      <th>month</th>\n",
       "      <th>day</th>\n",
       "      <th>dep_time</th>\n",
       "      <th>dep_delay</th>\n",
       "      <th>arr_time</th>\n",
       "      <th>arr_delay</th>\n",
       "      <th>carrier</th>\n",
       "      <th>tailnum</th>\n",
       "      <th>flight</th>\n",
       "      <th>origin</th>\n",
       "      <th>dest</th>\n",
       "      <th>air_time</th>\n",
       "      <th>distance</th>\n",
       "      <th>hour</th>\n",
       "      <th>minute</th>\n",
       "    </tr>\n",
       "  </thead>\n",
       "  <tbody>\n",
       "    <tr>\n",
       "      <th>0</th>\n",
       "      <td>1</td>\n",
       "      <td>2013</td>\n",
       "      <td>1</td>\n",
       "      <td>1</td>\n",
       "      <td>517.0</td>\n",
       "      <td>2.0</td>\n",
       "      <td>830.0</td>\n",
       "      <td>11.0</td>\n",
       "      <td>UA</td>\n",
       "      <td>N14228</td>\n",
       "      <td>1545</td>\n",
       "      <td>EWR</td>\n",
       "      <td>IAH</td>\n",
       "      <td>227.0</td>\n",
       "      <td>1400</td>\n",
       "      <td>5.0</td>\n",
       "      <td>17.0</td>\n",
       "    </tr>\n",
       "    <tr>\n",
       "      <th>1</th>\n",
       "      <td>2</td>\n",
       "      <td>2013</td>\n",
       "      <td>1</td>\n",
       "      <td>1</td>\n",
       "      <td>533.0</td>\n",
       "      <td>4.0</td>\n",
       "      <td>850.0</td>\n",
       "      <td>20.0</td>\n",
       "      <td>UA</td>\n",
       "      <td>N24211</td>\n",
       "      <td>1714</td>\n",
       "      <td>LGA</td>\n",
       "      <td>IAH</td>\n",
       "      <td>227.0</td>\n",
       "      <td>1416</td>\n",
       "      <td>5.0</td>\n",
       "      <td>33.0</td>\n",
       "    </tr>\n",
       "    <tr>\n",
       "      <th>2</th>\n",
       "      <td>3</td>\n",
       "      <td>2013</td>\n",
       "      <td>1</td>\n",
       "      <td>1</td>\n",
       "      <td>542.0</td>\n",
       "      <td>2.0</td>\n",
       "      <td>923.0</td>\n",
       "      <td>33.0</td>\n",
       "      <td>AA</td>\n",
       "      <td>N619AA</td>\n",
       "      <td>1141</td>\n",
       "      <td>JFK</td>\n",
       "      <td>MIA</td>\n",
       "      <td>160.0</td>\n",
       "      <td>1089</td>\n",
       "      <td>5.0</td>\n",
       "      <td>42.0</td>\n",
       "    </tr>\n",
       "    <tr>\n",
       "      <th>3</th>\n",
       "      <td>4</td>\n",
       "      <td>2013</td>\n",
       "      <td>1</td>\n",
       "      <td>1</td>\n",
       "      <td>544.0</td>\n",
       "      <td>-1.0</td>\n",
       "      <td>1004.0</td>\n",
       "      <td>-18.0</td>\n",
       "      <td>B6</td>\n",
       "      <td>N804JB</td>\n",
       "      <td>725</td>\n",
       "      <td>JFK</td>\n",
       "      <td>BQN</td>\n",
       "      <td>183.0</td>\n",
       "      <td>1576</td>\n",
       "      <td>5.0</td>\n",
       "      <td>44.0</td>\n",
       "    </tr>\n",
       "    <tr>\n",
       "      <th>4</th>\n",
       "      <td>5</td>\n",
       "      <td>2013</td>\n",
       "      <td>1</td>\n",
       "      <td>1</td>\n",
       "      <td>554.0</td>\n",
       "      <td>-6.0</td>\n",
       "      <td>812.0</td>\n",
       "      <td>-25.0</td>\n",
       "      <td>DL</td>\n",
       "      <td>N668DN</td>\n",
       "      <td>461</td>\n",
       "      <td>LGA</td>\n",
       "      <td>ATL</td>\n",
       "      <td>116.0</td>\n",
       "      <td>762</td>\n",
       "      <td>5.0</td>\n",
       "      <td>54.0</td>\n",
       "    </tr>\n",
       "  </tbody>\n",
       "</table>\n",
       "</div>"
      ],
      "text/plain": [
       "   Unnamed: 0  year  month  day  dep_time  dep_delay  arr_time  arr_delay  \\\n",
       "0           1  2013      1    1     517.0        2.0     830.0       11.0   \n",
       "1           2  2013      1    1     533.0        4.0     850.0       20.0   \n",
       "2           3  2013      1    1     542.0        2.0     923.0       33.0   \n",
       "3           4  2013      1    1     544.0       -1.0    1004.0      -18.0   \n",
       "4           5  2013      1    1     554.0       -6.0     812.0      -25.0   \n",
       "\n",
       "  carrier tailnum  flight origin dest  air_time  distance  hour  minute  \n",
       "0      UA  N14228    1545    EWR  IAH     227.0      1400   5.0    17.0  \n",
       "1      UA  N24211    1714    LGA  IAH     227.0      1416   5.0    33.0  \n",
       "2      AA  N619AA    1141    JFK  MIA     160.0      1089   5.0    42.0  \n",
       "3      B6  N804JB     725    JFK  BQN     183.0      1576   5.0    44.0  \n",
       "4      DL  N668DN     461    LGA  ATL     116.0       762   5.0    54.0  "
      ]
     },
     "execution_count": 3,
     "metadata": {},
     "output_type": "execute_result"
    }
   ],
   "source": [
    "flights_data.head()"
   ]
  },
  {
   "cell_type": "code",
   "execution_count": 4,
   "id": "54512008",
   "metadata": {},
   "outputs": [
    {
     "name": "stdout",
     "output_type": "stream",
     "text": [
      "<class 'pandas.core.frame.DataFrame'>\n",
      "RangeIndex: 336776 entries, 0 to 336775\n",
      "Data columns (total 17 columns):\n",
      " #   Column      Non-Null Count   Dtype  \n",
      "---  ------      --------------   -----  \n",
      " 0   Unnamed: 0  336776 non-null  int64  \n",
      " 1   year        336776 non-null  int64  \n",
      " 2   month       336776 non-null  int64  \n",
      " 3   day         336776 non-null  int64  \n",
      " 4   dep_time    328521 non-null  float64\n",
      " 5   dep_delay   328521 non-null  float64\n",
      " 6   arr_time    328063 non-null  float64\n",
      " 7   arr_delay   327346 non-null  float64\n",
      " 8   carrier     336776 non-null  object \n",
      " 9   tailnum     334264 non-null  object \n",
      " 10  flight      336776 non-null  int64  \n",
      " 11  origin      336776 non-null  object \n",
      " 12  dest        336776 non-null  object \n",
      " 13  air_time    327346 non-null  float64\n",
      " 14  distance    336776 non-null  int64  \n",
      " 15  hour        328521 non-null  float64\n",
      " 16  minute      328521 non-null  float64\n",
      "dtypes: float64(7), int64(6), object(4)\n",
      "memory usage: 43.7+ MB\n"
     ]
    }
   ],
   "source": [
    "flights_data.info()"
   ]
  },
  {
   "cell_type": "markdown",
   "id": "8d161b71",
   "metadata": {},
   "source": [
    "### Question 1 : How many flights were there from JFK to SLC? Int"
   ]
  },
  {
   "cell_type": "code",
   "execution_count": 5,
   "id": "4308c130",
   "metadata": {},
   "outputs": [
    {
     "data": {
      "text/plain": [
       "2113"
      ]
     },
     "execution_count": 5,
     "metadata": {},
     "output_type": "execute_result"
    }
   ],
   "source": [
    "flights_data[(flights_data.origin == \"JFK\") & (flights_data.dest == \"SLC\")].year.count()"
   ]
  },
  {
   "cell_type": "code",
   "execution_count": 6,
   "id": "29b091e0",
   "metadata": {},
   "outputs": [],
   "source": [
    "#2113 flights from JFK to SLC"
   ]
  },
  {
   "cell_type": "markdown",
   "id": "4d100059",
   "metadata": {},
   "source": [
    "### Question 2 How many airlines fly to SLC? Should be int"
   ]
  },
  {
   "cell_type": "code",
   "execution_count": 7,
   "id": "fa601b7d",
   "metadata": {},
   "outputs": [
    {
     "data": {
      "text/plain": [
       "array(['DL', 'B6'], dtype=object)"
      ]
     },
     "execution_count": 7,
     "metadata": {},
     "output_type": "execute_result"
    }
   ],
   "source": [
    "flights_data[(flights_data.dest == \"SLC\")].carrier.unique()"
   ]
  },
  {
   "cell_type": "code",
   "execution_count": 8,
   "id": "f7fdc333",
   "metadata": {},
   "outputs": [],
   "source": [
    "# Only DL and B6 fly to SLC, so that's 2."
   ]
  },
  {
   "cell_type": "markdown",
   "id": "8164b754",
   "metadata": {},
   "source": [
    "### Question 3 What is the average arrival delay for flights to RDU? float"
   ]
  },
  {
   "cell_type": "code",
   "execution_count": 9,
   "id": "faf62910",
   "metadata": {},
   "outputs": [
    {
     "data": {
      "text/plain": [
       "10.052380952380952"
      ]
     },
     "execution_count": 9,
     "metadata": {},
     "output_type": "execute_result"
    }
   ],
   "source": [
    "flights_data[(flights_data.dest == \"RDU\")].arr_delay.mean()"
   ]
  },
  {
   "cell_type": "code",
   "execution_count": 10,
   "id": "4056835f",
   "metadata": {},
   "outputs": [],
   "source": [
    "# The average arrival delay is 10.0523"
   ]
  },
  {
   "cell_type": "markdown",
   "id": "c2db3f1c",
   "metadata": {},
   "source": [
    "### Question 4 What proportion of flights to SEA come from the two NYC airports (LGA and JFK)?  float"
   ]
  },
  {
   "cell_type": "code",
   "execution_count": 11,
   "id": "e5de7f58",
   "metadata": {},
   "outputs": [
    {
     "data": {
      "text/plain": [
       "count     2092\n",
       "unique       1\n",
       "top        JFK\n",
       "freq      2092\n",
       "Name: origin, dtype: object"
      ]
     },
     "execution_count": 11,
     "metadata": {},
     "output_type": "execute_result"
    }
   ],
   "source": [
    "x = flights_data[(flights_data.dest == \"SEA\")]\n",
    "y = x[(x.origin == \"LGA\") | (x.origin == \"JFK\")]\n",
    "y.origin.describe()"
   ]
  },
  {
   "cell_type": "code",
   "execution_count": 12,
   "id": "102d3c03",
   "metadata": {},
   "outputs": [],
   "source": [
    "# There were 2092 flights from JFK to SEA and none from LGA"
   ]
  },
  {
   "cell_type": "markdown",
   "id": "1ab1aff9",
   "metadata": {},
   "source": [
    "### Question 5 Which date has the largest average depature delay? Pd slice with date and float\n",
    "### please make date a column. Preferred format is 2013/1/1 (y/m/d)\n"
   ]
  },
  {
   "cell_type": "code",
   "execution_count": 13,
   "id": "ac3fd481",
   "metadata": {},
   "outputs": [],
   "source": [
    "df = flights_data"
   ]
  },
  {
   "cell_type": "code",
   "execution_count": 14,
   "id": "c691272e",
   "metadata": {},
   "outputs": [],
   "source": [
    "df['date'] = df['year'].astype('str') + '/' + df['month'].astype('str') + '/' + df['day'].astype('str')"
   ]
  },
  {
   "cell_type": "code",
   "execution_count": 15,
   "id": "5d66f788",
   "metadata": {},
   "outputs": [
    {
     "data": {
      "text/plain": [
       "0          2013/1/1\n",
       "1          2013/1/1\n",
       "2          2013/1/1\n",
       "3          2013/1/1\n",
       "4          2013/1/1\n",
       "            ...    \n",
       "336771    2013/9/30\n",
       "336772    2013/9/30\n",
       "336773    2013/9/30\n",
       "336774    2013/9/30\n",
       "336775    2013/9/30\n",
       "Name: date, Length: 336776, dtype: object"
      ]
     },
     "execution_count": 15,
     "metadata": {},
     "output_type": "execute_result"
    }
   ],
   "source": [
    "df.date"
   ]
  },
  {
   "cell_type": "code",
   "execution_count": 16,
   "id": "591358e0",
   "metadata": {},
   "outputs": [
    {
     "data": {
      "text/html": [
       "<div>\n",
       "<style scoped>\n",
       "    .dataframe tbody tr th:only-of-type {\n",
       "        vertical-align: middle;\n",
       "    }\n",
       "\n",
       "    .dataframe tbody tr th {\n",
       "        vertical-align: top;\n",
       "    }\n",
       "\n",
       "    .dataframe thead th {\n",
       "        text-align: right;\n",
       "    }\n",
       "</style>\n",
       "<table border=\"1\" class=\"dataframe\">\n",
       "  <thead>\n",
       "    <tr style=\"text-align: right;\">\n",
       "      <th></th>\n",
       "      <th>Unnamed: 0</th>\n",
       "      <th>year</th>\n",
       "      <th>month</th>\n",
       "      <th>day</th>\n",
       "      <th>dep_time</th>\n",
       "      <th>dep_delay</th>\n",
       "      <th>arr_time</th>\n",
       "      <th>arr_delay</th>\n",
       "      <th>flight</th>\n",
       "      <th>air_time</th>\n",
       "      <th>distance</th>\n",
       "      <th>hour</th>\n",
       "      <th>minute</th>\n",
       "    </tr>\n",
       "    <tr>\n",
       "      <th>date</th>\n",
       "      <th></th>\n",
       "      <th></th>\n",
       "      <th></th>\n",
       "      <th></th>\n",
       "      <th></th>\n",
       "      <th></th>\n",
       "      <th></th>\n",
       "      <th></th>\n",
       "      <th></th>\n",
       "      <th></th>\n",
       "      <th></th>\n",
       "      <th></th>\n",
       "      <th></th>\n",
       "    </tr>\n",
       "  </thead>\n",
       "  <tbody>\n",
       "    <tr>\n",
       "      <th>2013/1/1</th>\n",
       "      <td>421.5</td>\n",
       "      <td>2013.0</td>\n",
       "      <td>1.0</td>\n",
       "      <td>1.0</td>\n",
       "      <td>1384.991647</td>\n",
       "      <td>11.548926</td>\n",
       "      <td>1562.344086</td>\n",
       "      <td>12.651023</td>\n",
       "      <td>1821.496437</td>\n",
       "      <td>169.652226</td>\n",
       "      <td>1077.429929</td>\n",
       "      <td>13.538186</td>\n",
       "      <td>31.173031</td>\n",
       "    </tr>\n",
       "    <tr>\n",
       "      <th>2013/1/10</th>\n",
       "      <td>8366.5</td>\n",
       "      <td>2013.0</td>\n",
       "      <td>1.0</td>\n",
       "      <td>10.0</td>\n",
       "      <td>1332.865447</td>\n",
       "      <td>2.844995</td>\n",
       "      <td>1523.306781</td>\n",
       "      <td>-5.898816</td>\n",
       "      <td>1999.322961</td>\n",
       "      <td>146.612487</td>\n",
       "      <td>993.185622</td>\n",
       "      <td>13.009688</td>\n",
       "      <td>31.896663</td>\n",
       "    </tr>\n",
       "    <tr>\n",
       "      <th>2013/1/11</th>\n",
       "      <td>9297.5</td>\n",
       "      <td>2013.0</td>\n",
       "      <td>1.0</td>\n",
       "      <td>11.0</td>\n",
       "      <td>1326.082699</td>\n",
       "      <td>2.817193</td>\n",
       "      <td>1508.460784</td>\n",
       "      <td>-4.762268</td>\n",
       "      <td>1991.307527</td>\n",
       "      <td>148.736096</td>\n",
       "      <td>991.995699</td>\n",
       "      <td>12.937976</td>\n",
       "      <td>32.285092</td>\n",
       "    </tr>\n",
       "    <tr>\n",
       "      <th>2013/1/12</th>\n",
       "      <td>10107.5</td>\n",
       "      <td>2013.0</td>\n",
       "      <td>1.0</td>\n",
       "      <td>12.0</td>\n",
       "      <td>1299.903509</td>\n",
       "      <td>1.596491</td>\n",
       "      <td>1493.179825</td>\n",
       "      <td>-13.016153</td>\n",
       "      <td>1797.649275</td>\n",
       "      <td>147.555066</td>\n",
       "      <td>1029.208696</td>\n",
       "      <td>12.671053</td>\n",
       "      <td>32.798246</td>\n",
       "    </tr>\n",
       "    <tr>\n",
       "      <th>2013/1/13</th>\n",
       "      <td>10866.5</td>\n",
       "      <td>2013.0</td>\n",
       "      <td>1.0</td>\n",
       "      <td>13.0</td>\n",
       "      <td>1395.386700</td>\n",
       "      <td>19.873153</td>\n",
       "      <td>1495.388889</td>\n",
       "      <td>14.931846</td>\n",
       "      <td>1932.527778</td>\n",
       "      <td>154.161090</td>\n",
       "      <td>1022.030193</td>\n",
       "      <td>13.635468</td>\n",
       "      <td>31.839901</td>\n",
       "    </tr>\n",
       "    <tr>\n",
       "      <th>...</th>\n",
       "      <td>...</td>\n",
       "      <td>...</td>\n",
       "      <td>...</td>\n",
       "      <td>...</td>\n",
       "      <td>...</td>\n",
       "      <td>...</td>\n",
       "      <td>...</td>\n",
       "      <td>...</td>\n",
       "      <td>...</td>\n",
       "      <td>...</td>\n",
       "      <td>...</td>\n",
       "      <td>...</td>\n",
       "      <td>...</td>\n",
       "    </tr>\n",
       "    <tr>\n",
       "      <th>2013/9/5</th>\n",
       "      <td>313238.0</td>\n",
       "      <td>2013.0</td>\n",
       "      <td>9.0</td>\n",
       "      <td>5.0</td>\n",
       "      <td>1325.436401</td>\n",
       "      <td>-0.387797</td>\n",
       "      <td>1509.077640</td>\n",
       "      <td>-15.540373</td>\n",
       "      <td>2026.864809</td>\n",
       "      <td>141.927536</td>\n",
       "      <td>1040.770898</td>\n",
       "      <td>12.930714</td>\n",
       "      <td>32.365047</td>\n",
       "    </tr>\n",
       "    <tr>\n",
       "      <th>2013/9/6</th>\n",
       "      <td>314206.0</td>\n",
       "      <td>2013.0</td>\n",
       "      <td>9.0</td>\n",
       "      <td>6.0</td>\n",
       "      <td>1323.825907</td>\n",
       "      <td>-0.397927</td>\n",
       "      <td>1506.087047</td>\n",
       "      <td>-17.895010</td>\n",
       "      <td>2049.172699</td>\n",
       "      <td>138.006237</td>\n",
       "      <td>1033.918304</td>\n",
       "      <td>12.918135</td>\n",
       "      <td>32.012435</td>\n",
       "    </tr>\n",
       "    <tr>\n",
       "      <th>2013/9/7</th>\n",
       "      <td>315033.5</td>\n",
       "      <td>2013.0</td>\n",
       "      <td>9.0</td>\n",
       "      <td>7.0</td>\n",
       "      <td>1270.809316</td>\n",
       "      <td>-0.250364</td>\n",
       "      <td>1458.391557</td>\n",
       "      <td>-20.349854</td>\n",
       "      <td>1818.270349</td>\n",
       "      <td>142.244898</td>\n",
       "      <td>1089.757267</td>\n",
       "      <td>12.390102</td>\n",
       "      <td>31.799127</td>\n",
       "    </tr>\n",
       "    <tr>\n",
       "      <th>2013/9/8</th>\n",
       "      <td>315831.5</td>\n",
       "      <td>2013.0</td>\n",
       "      <td>9.0</td>\n",
       "      <td>8.0</td>\n",
       "      <td>1384.500554</td>\n",
       "      <td>2.083056</td>\n",
       "      <td>1576.563677</td>\n",
       "      <td>-11.545455</td>\n",
       "      <td>2025.325991</td>\n",
       "      <td>140.424612</td>\n",
       "      <td>1044.235683</td>\n",
       "      <td>13.522702</td>\n",
       "      <td>32.230343</td>\n",
       "    </tr>\n",
       "    <tr>\n",
       "      <th>2013/9/9</th>\n",
       "      <td>316781.0</td>\n",
       "      <td>2013.0</td>\n",
       "      <td>9.0</td>\n",
       "      <td>9.0</td>\n",
       "      <td>1326.414560</td>\n",
       "      <td>0.794742</td>\n",
       "      <td>1513.308392</td>\n",
       "      <td>-11.701417</td>\n",
       "      <td>2086.266398</td>\n",
       "      <td>137.751012</td>\n",
       "      <td>1031.168517</td>\n",
       "      <td>12.939333</td>\n",
       "      <td>32.481294</td>\n",
       "    </tr>\n",
       "  </tbody>\n",
       "</table>\n",
       "<p>365 rows × 13 columns</p>\n",
       "</div>"
      ],
      "text/plain": [
       "           Unnamed: 0    year  month   day     dep_time  dep_delay  \\\n",
       "date                                                                 \n",
       "2013/1/1        421.5  2013.0    1.0   1.0  1384.991647  11.548926   \n",
       "2013/1/10      8366.5  2013.0    1.0  10.0  1332.865447   2.844995   \n",
       "2013/1/11      9297.5  2013.0    1.0  11.0  1326.082699   2.817193   \n",
       "2013/1/12     10107.5  2013.0    1.0  12.0  1299.903509   1.596491   \n",
       "2013/1/13     10866.5  2013.0    1.0  13.0  1395.386700  19.873153   \n",
       "...               ...     ...    ...   ...          ...        ...   \n",
       "2013/9/5     313238.0  2013.0    9.0   5.0  1325.436401  -0.387797   \n",
       "2013/9/6     314206.0  2013.0    9.0   6.0  1323.825907  -0.397927   \n",
       "2013/9/7     315033.5  2013.0    9.0   7.0  1270.809316  -0.250364   \n",
       "2013/9/8     315831.5  2013.0    9.0   8.0  1384.500554   2.083056   \n",
       "2013/9/9     316781.0  2013.0    9.0   9.0  1326.414560   0.794742   \n",
       "\n",
       "              arr_time  arr_delay       flight    air_time     distance  \\\n",
       "date                                                                      \n",
       "2013/1/1   1562.344086  12.651023  1821.496437  169.652226  1077.429929   \n",
       "2013/1/10  1523.306781  -5.898816  1999.322961  146.612487   993.185622   \n",
       "2013/1/11  1508.460784  -4.762268  1991.307527  148.736096   991.995699   \n",
       "2013/1/12  1493.179825 -13.016153  1797.649275  147.555066  1029.208696   \n",
       "2013/1/13  1495.388889  14.931846  1932.527778  154.161090  1022.030193   \n",
       "...                ...        ...          ...         ...          ...   \n",
       "2013/9/5   1509.077640 -15.540373  2026.864809  141.927536  1040.770898   \n",
       "2013/9/6   1506.087047 -17.895010  2049.172699  138.006237  1033.918304   \n",
       "2013/9/7   1458.391557 -20.349854  1818.270349  142.244898  1089.757267   \n",
       "2013/9/8   1576.563677 -11.545455  2025.325991  140.424612  1044.235683   \n",
       "2013/9/9   1513.308392 -11.701417  2086.266398  137.751012  1031.168517   \n",
       "\n",
       "                hour     minute  \n",
       "date                             \n",
       "2013/1/1   13.538186  31.173031  \n",
       "2013/1/10  13.009688  31.896663  \n",
       "2013/1/11  12.937976  32.285092  \n",
       "2013/1/12  12.671053  32.798246  \n",
       "2013/1/13  13.635468  31.839901  \n",
       "...              ...        ...  \n",
       "2013/9/5   12.930714  32.365047  \n",
       "2013/9/6   12.918135  32.012435  \n",
       "2013/9/7   12.390102  31.799127  \n",
       "2013/9/8   13.522702  32.230343  \n",
       "2013/9/9   12.939333  32.481294  \n",
       "\n",
       "[365 rows x 13 columns]"
      ]
     },
     "execution_count": 16,
     "metadata": {},
     "output_type": "execute_result"
    }
   ],
   "source": [
    "x = df.groupby(['date']).mean()\n",
    "x"
   ]
  },
  {
   "cell_type": "code",
   "execution_count": 17,
   "id": "2f7ee8f1",
   "metadata": {},
   "outputs": [
    {
     "data": {
      "text/plain": [
       "'2013/3/8'"
      ]
     },
     "execution_count": 17,
     "metadata": {},
     "output_type": "execute_result"
    }
   ],
   "source": [
    "x.dep_delay.idxmax()"
   ]
  },
  {
   "cell_type": "code",
   "execution_count": 18,
   "id": "d5baf548",
   "metadata": {},
   "outputs": [],
   "source": [
    "# The date of the largest average departure delay is 2013/3/8"
   ]
  },
  {
   "cell_type": "markdown",
   "id": "c7193968",
   "metadata": {},
   "source": [
    "### Question 6 Which date has the largest average arrival delay? pd slice with date and float"
   ]
  },
  {
   "cell_type": "code",
   "execution_count": 19,
   "id": "af3f2a9e",
   "metadata": {},
   "outputs": [
    {
     "data": {
      "text/plain": [
       "'2013/3/8'"
      ]
     },
     "execution_count": 19,
     "metadata": {},
     "output_type": "execute_result"
    }
   ],
   "source": [
    "x.arr_delay.idxmax()"
   ]
  },
  {
   "cell_type": "code",
   "execution_count": 20,
   "id": "251af820",
   "metadata": {},
   "outputs": [],
   "source": [
    "# The largest average arrival delay was on 2013/3/8"
   ]
  },
  {
   "cell_type": "markdown",
   "id": "4880817d",
   "metadata": {},
   "source": [
    "### Question 7 Which flight departing LGA or JFK in 2013 flew the fastest? pd slice with tailnumber and speed\n",
    "### speed = distance/airtime"
   ]
  },
  {
   "cell_type": "code",
   "execution_count": 21,
   "id": "8cc99591",
   "metadata": {},
   "outputs": [
    {
     "data": {
      "text/plain": [
       "'N395HA'"
      ]
     },
     "execution_count": 21,
     "metadata": {},
     "output_type": "execute_result"
    }
   ],
   "source": [
    "y = df.groupby(['tailnum']).mean()\n",
    "y['speed'] = y['distance']/(y['hour']*60 + y['minute'])\n",
    "y.speed.idxmax()"
   ]
  },
  {
   "cell_type": "code",
   "execution_count": 22,
   "id": "9ef41fef",
   "metadata": {},
   "outputs": [],
   "source": [
    "# N395HA was the tailnumber that flew the fastest on average"
   ]
  },
  {
   "cell_type": "markdown",
   "id": "17e9768f",
   "metadata": {},
   "source": [
    "### Question 8 Replace all nans in the weather pd dataframe with 0s. Pd with no nans"
   ]
  },
  {
   "cell_type": "code",
   "execution_count": 23,
   "id": "d6a099ff",
   "metadata": {},
   "outputs": [
    {
     "data": {
      "text/html": [
       "<div>\n",
       "<style scoped>\n",
       "    .dataframe tbody tr th:only-of-type {\n",
       "        vertical-align: middle;\n",
       "    }\n",
       "\n",
       "    .dataframe tbody tr th {\n",
       "        vertical-align: top;\n",
       "    }\n",
       "\n",
       "    .dataframe thead th {\n",
       "        text-align: right;\n",
       "    }\n",
       "</style>\n",
       "<table border=\"1\" class=\"dataframe\">\n",
       "  <thead>\n",
       "    <tr style=\"text-align: right;\">\n",
       "      <th></th>\n",
       "      <th>Unnamed: 0</th>\n",
       "      <th>origin</th>\n",
       "      <th>year</th>\n",
       "      <th>month</th>\n",
       "      <th>day</th>\n",
       "      <th>hour</th>\n",
       "      <th>temp</th>\n",
       "      <th>dewp</th>\n",
       "      <th>humid</th>\n",
       "      <th>wind_dir</th>\n",
       "      <th>wind_speed</th>\n",
       "      <th>wind_gust</th>\n",
       "      <th>precip</th>\n",
       "      <th>pressure</th>\n",
       "      <th>visib</th>\n",
       "    </tr>\n",
       "  </thead>\n",
       "  <tbody>\n",
       "    <tr>\n",
       "      <th>0</th>\n",
       "      <td>1</td>\n",
       "      <td>EWR</td>\n",
       "      <td>2013</td>\n",
       "      <td>1.0</td>\n",
       "      <td>1.0</td>\n",
       "      <td>0.0</td>\n",
       "      <td>37.04</td>\n",
       "      <td>21.92</td>\n",
       "      <td>53.97</td>\n",
       "      <td>230.0</td>\n",
       "      <td>10.35702</td>\n",
       "      <td>11.918651</td>\n",
       "      <td>0.0</td>\n",
       "      <td>1013.9</td>\n",
       "      <td>10.0</td>\n",
       "    </tr>\n",
       "    <tr>\n",
       "      <th>1</th>\n",
       "      <td>2</td>\n",
       "      <td>EWR</td>\n",
       "      <td>2013</td>\n",
       "      <td>1.0</td>\n",
       "      <td>1.0</td>\n",
       "      <td>1.0</td>\n",
       "      <td>37.04</td>\n",
       "      <td>21.92</td>\n",
       "      <td>53.97</td>\n",
       "      <td>230.0</td>\n",
       "      <td>13.80936</td>\n",
       "      <td>15.891535</td>\n",
       "      <td>0.0</td>\n",
       "      <td>1013.0</td>\n",
       "      <td>10.0</td>\n",
       "    </tr>\n",
       "    <tr>\n",
       "      <th>2</th>\n",
       "      <td>3</td>\n",
       "      <td>EWR</td>\n",
       "      <td>2013</td>\n",
       "      <td>1.0</td>\n",
       "      <td>1.0</td>\n",
       "      <td>2.0</td>\n",
       "      <td>37.94</td>\n",
       "      <td>21.92</td>\n",
       "      <td>52.09</td>\n",
       "      <td>230.0</td>\n",
       "      <td>12.65858</td>\n",
       "      <td>14.567241</td>\n",
       "      <td>0.0</td>\n",
       "      <td>1012.6</td>\n",
       "      <td>10.0</td>\n",
       "    </tr>\n",
       "    <tr>\n",
       "      <th>3</th>\n",
       "      <td>4</td>\n",
       "      <td>EWR</td>\n",
       "      <td>2013</td>\n",
       "      <td>1.0</td>\n",
       "      <td>1.0</td>\n",
       "      <td>3.0</td>\n",
       "      <td>37.94</td>\n",
       "      <td>23.00</td>\n",
       "      <td>54.51</td>\n",
       "      <td>230.0</td>\n",
       "      <td>13.80936</td>\n",
       "      <td>15.891535</td>\n",
       "      <td>0.0</td>\n",
       "      <td>1012.7</td>\n",
       "      <td>10.0</td>\n",
       "    </tr>\n",
       "    <tr>\n",
       "      <th>4</th>\n",
       "      <td>5</td>\n",
       "      <td>EWR</td>\n",
       "      <td>2013</td>\n",
       "      <td>1.0</td>\n",
       "      <td>1.0</td>\n",
       "      <td>4.0</td>\n",
       "      <td>37.94</td>\n",
       "      <td>24.08</td>\n",
       "      <td>57.04</td>\n",
       "      <td>240.0</td>\n",
       "      <td>14.96014</td>\n",
       "      <td>17.215830</td>\n",
       "      <td>0.0</td>\n",
       "      <td>1012.8</td>\n",
       "      <td>10.0</td>\n",
       "    </tr>\n",
       "    <tr>\n",
       "      <th>...</th>\n",
       "      <td>...</td>\n",
       "      <td>...</td>\n",
       "      <td>...</td>\n",
       "      <td>...</td>\n",
       "      <td>...</td>\n",
       "      <td>...</td>\n",
       "      <td>...</td>\n",
       "      <td>...</td>\n",
       "      <td>...</td>\n",
       "      <td>...</td>\n",
       "      <td>...</td>\n",
       "      <td>...</td>\n",
       "      <td>...</td>\n",
       "      <td>...</td>\n",
       "      <td>...</td>\n",
       "    </tr>\n",
       "    <tr>\n",
       "      <th>8714</th>\n",
       "      <td>8715</td>\n",
       "      <td>JFK</td>\n",
       "      <td>2013</td>\n",
       "      <td>9.0</td>\n",
       "      <td>2.0</td>\n",
       "      <td>20.0</td>\n",
       "      <td>75.20</td>\n",
       "      <td>73.40</td>\n",
       "      <td>94.14</td>\n",
       "      <td>200.0</td>\n",
       "      <td>4.60312</td>\n",
       "      <td>5.297178</td>\n",
       "      <td>0.0</td>\n",
       "      <td>0.0</td>\n",
       "      <td>4.0</td>\n",
       "    </tr>\n",
       "    <tr>\n",
       "      <th>8715</th>\n",
       "      <td>8716</td>\n",
       "      <td>JFK</td>\n",
       "      <td>2013</td>\n",
       "      <td>10.0</td>\n",
       "      <td>23.0</td>\n",
       "      <td>10.0</td>\n",
       "      <td>48.92</td>\n",
       "      <td>39.02</td>\n",
       "      <td>68.51</td>\n",
       "      <td>60.0</td>\n",
       "      <td>4.60312</td>\n",
       "      <td>5.297178</td>\n",
       "      <td>0.0</td>\n",
       "      <td>1008.1</td>\n",
       "      <td>10.0</td>\n",
       "    </tr>\n",
       "    <tr>\n",
       "      <th>8716</th>\n",
       "      <td>8717</td>\n",
       "      <td>JFK</td>\n",
       "      <td>2013</td>\n",
       "      <td>10.0</td>\n",
       "      <td>23.0</td>\n",
       "      <td>11.0</td>\n",
       "      <td>48.92</td>\n",
       "      <td>39.02</td>\n",
       "      <td>68.51</td>\n",
       "      <td>40.0</td>\n",
       "      <td>4.60312</td>\n",
       "      <td>5.297178</td>\n",
       "      <td>0.0</td>\n",
       "      <td>1008.5</td>\n",
       "      <td>10.0</td>\n",
       "    </tr>\n",
       "    <tr>\n",
       "      <th>8717</th>\n",
       "      <td>8718</td>\n",
       "      <td>JFK</td>\n",
       "      <td>2013</td>\n",
       "      <td>12.0</td>\n",
       "      <td>17.0</td>\n",
       "      <td>5.0</td>\n",
       "      <td>26.96</td>\n",
       "      <td>10.94</td>\n",
       "      <td>50.34</td>\n",
       "      <td>40.0</td>\n",
       "      <td>4.60312</td>\n",
       "      <td>5.297178</td>\n",
       "      <td>0.0</td>\n",
       "      <td>1023.9</td>\n",
       "      <td>10.0</td>\n",
       "    </tr>\n",
       "    <tr>\n",
       "      <th>8718</th>\n",
       "      <td>8719</td>\n",
       "      <td>LGA</td>\n",
       "      <td>2013</td>\n",
       "      <td>8.0</td>\n",
       "      <td>22.0</td>\n",
       "      <td>22.0</td>\n",
       "      <td>75.92</td>\n",
       "      <td>66.92</td>\n",
       "      <td>73.68</td>\n",
       "      <td>210.0</td>\n",
       "      <td>8.05546</td>\n",
       "      <td>9.270062</td>\n",
       "      <td>0.0</td>\n",
       "      <td>1011.9</td>\n",
       "      <td>10.0</td>\n",
       "    </tr>\n",
       "  </tbody>\n",
       "</table>\n",
       "<p>8719 rows × 15 columns</p>\n",
       "</div>"
      ],
      "text/plain": [
       "      Unnamed: 0 origin  year  month   day  hour   temp   dewp  humid  \\\n",
       "0              1    EWR  2013    1.0   1.0   0.0  37.04  21.92  53.97   \n",
       "1              2    EWR  2013    1.0   1.0   1.0  37.04  21.92  53.97   \n",
       "2              3    EWR  2013    1.0   1.0   2.0  37.94  21.92  52.09   \n",
       "3              4    EWR  2013    1.0   1.0   3.0  37.94  23.00  54.51   \n",
       "4              5    EWR  2013    1.0   1.0   4.0  37.94  24.08  57.04   \n",
       "...          ...    ...   ...    ...   ...   ...    ...    ...    ...   \n",
       "8714        8715    JFK  2013    9.0   2.0  20.0  75.20  73.40  94.14   \n",
       "8715        8716    JFK  2013   10.0  23.0  10.0  48.92  39.02  68.51   \n",
       "8716        8717    JFK  2013   10.0  23.0  11.0  48.92  39.02  68.51   \n",
       "8717        8718    JFK  2013   12.0  17.0   5.0  26.96  10.94  50.34   \n",
       "8718        8719    LGA  2013    8.0  22.0  22.0  75.92  66.92  73.68   \n",
       "\n",
       "      wind_dir  wind_speed  wind_gust  precip  pressure  visib  \n",
       "0        230.0    10.35702  11.918651     0.0    1013.9   10.0  \n",
       "1        230.0    13.80936  15.891535     0.0    1013.0   10.0  \n",
       "2        230.0    12.65858  14.567241     0.0    1012.6   10.0  \n",
       "3        230.0    13.80936  15.891535     0.0    1012.7   10.0  \n",
       "4        240.0    14.96014  17.215830     0.0    1012.8   10.0  \n",
       "...        ...         ...        ...     ...       ...    ...  \n",
       "8714     200.0     4.60312   5.297178     0.0       0.0    4.0  \n",
       "8715      60.0     4.60312   5.297178     0.0    1008.1   10.0  \n",
       "8716      40.0     4.60312   5.297178     0.0    1008.5   10.0  \n",
       "8717      40.0     4.60312   5.297178     0.0    1023.9   10.0  \n",
       "8718     210.0     8.05546   9.270062     0.0    1011.9   10.0  \n",
       "\n",
       "[8719 rows x 15 columns]"
      ]
     },
     "execution_count": 23,
     "metadata": {},
     "output_type": "execute_result"
    }
   ],
   "source": [
    "weather_data_pd.fillna(0)"
   ]
  },
  {
   "cell_type": "markdown",
   "id": "46f141e7",
   "metadata": {},
   "source": [
    "### Question 9 How many observations were made in Feburary? Int"
   ]
  },
  {
   "cell_type": "code",
   "execution_count": 24,
   "id": "2c6731f9",
   "metadata": {},
   "outputs": [],
   "source": [
    "wd = weather_data_np"
   ]
  },
  {
   "cell_type": "code",
   "execution_count": 25,
   "id": "0714b425",
   "metadata": {},
   "outputs": [
    {
     "data": {
      "text/plain": [
       "array([[1, 'EWR', 2013, ..., 0.0, 1013.9, 10.0],\n",
       "       [2, 'EWR', 2013, ..., 0.0, 1013.0, 10.0],\n",
       "       [3, 'EWR', 2013, ..., 0.0, 1012.6, 10.0],\n",
       "       ...,\n",
       "       [8717, 'JFK', 2013, ..., 0.0, 1008.5, 10.0],\n",
       "       [8718, 'JFK', 2013, ..., 0.0, 1023.9, 10.0],\n",
       "       [8719, 'LGA', 2013, ..., 0.0, 1011.9, 10.0]], dtype=object)"
      ]
     },
     "execution_count": 25,
     "metadata": {},
     "output_type": "execute_result"
    }
   ],
   "source": [
    "wd"
   ]
  },
  {
   "cell_type": "code",
   "execution_count": 26,
   "id": "c67f664a",
   "metadata": {},
   "outputs": [
    {
     "data": {
      "text/plain": [
       "671"
      ]
     },
     "execution_count": 26,
     "metadata": {},
     "output_type": "execute_result"
    }
   ],
   "source": [
    "np.sum(wd[:,3] == 2)"
   ]
  },
  {
   "cell_type": "code",
   "execution_count": 27,
   "id": "173a106c",
   "metadata": {},
   "outputs": [],
   "source": [
    "# There were 671 observations in February"
   ]
  },
  {
   "cell_type": "markdown",
   "id": "e899c5d0",
   "metadata": {},
   "source": [
    "### Question 10 What was the mean for humidity in February? Float"
   ]
  },
  {
   "cell_type": "code",
   "execution_count": 48,
   "id": "0587c5a5",
   "metadata": {},
   "outputs": [],
   "source": [
    "z = wd[:,8][wd[:,3] == 2].astype(float)"
   ]
  },
  {
   "cell_type": "code",
   "execution_count": 49,
   "id": "68414eba",
   "metadata": {},
   "outputs": [
    {
     "data": {
      "text/plain": [
       "62.91815201192251"
      ]
     },
     "execution_count": 49,
     "metadata": {},
     "output_type": "execute_result"
    }
   ],
   "source": [
    "np.nanmean(z)"
   ]
  },
  {
   "cell_type": "code",
   "execution_count": 50,
   "id": "c86a15f2",
   "metadata": {},
   "outputs": [],
   "source": [
    "# the mean humitity for February was 62.918"
   ]
  },
  {
   "cell_type": "markdown",
   "id": "636c9461",
   "metadata": {},
   "source": [
    "### Question 11 What was the std for humidity in February? Float"
   ]
  },
  {
   "cell_type": "code",
   "execution_count": 51,
   "id": "86b2a073",
   "metadata": {},
   "outputs": [
    {
     "data": {
      "text/plain": [
       "20.33690087674334"
      ]
     },
     "execution_count": 51,
     "metadata": {},
     "output_type": "execute_result"
    }
   ],
   "source": [
    "np.std(z)"
   ]
  },
  {
   "cell_type": "code",
   "execution_count": null,
   "id": "a54e2e05",
   "metadata": {},
   "outputs": [],
   "source": [
    "#The std in feb was 20.3369"
   ]
  }
 ],
 "metadata": {
  "kernelspec": {
   "display_name": "Python 3 (ipykernel)",
   "language": "python",
   "name": "python3"
  },
  "language_info": {
   "codemirror_mode": {
    "name": "ipython",
    "version": 3
   },
   "file_extension": ".py",
   "mimetype": "text/x-python",
   "name": "python",
   "nbconvert_exporter": "python",
   "pygments_lexer": "ipython3",
   "version": "3.9.12"
  }
 },
 "nbformat": 4,
 "nbformat_minor": 5
}
